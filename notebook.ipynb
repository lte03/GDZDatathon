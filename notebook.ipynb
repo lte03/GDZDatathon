{
 "cells": [
  {
   "cell_type": "code",
   "execution_count": 1,
   "metadata": {},
   "outputs": [],
   "source": [
    "import pandas as pd\n",
    "import numpy as np"
   ]
  },
  {
   "cell_type": "code",
   "execution_count": 2,
   "metadata": {},
   "outputs": [],
   "source": [
    "train = pd.read_csv(\"dataset/train.csv\")\n",
    "test = pd.read_csv(\"dataset/test.csv\")\n",
    "weather = pd.read_csv(\"dataset/weather.csv\")"
   ]
  },
  {
   "cell_type": "code",
   "execution_count": 3,
   "metadata": {},
   "outputs": [
    {
     "data": {
      "text/html": [
       "<div>\n",
       "<style scoped>\n",
       "    .dataframe tbody tr th:only-of-type {\n",
       "        vertical-align: middle;\n",
       "    }\n",
       "\n",
       "    .dataframe tbody tr th {\n",
       "        vertical-align: top;\n",
       "    }\n",
       "\n",
       "    .dataframe thead th {\n",
       "        text-align: right;\n",
       "    }\n",
       "</style>\n",
       "<table border=\"1\" class=\"dataframe\">\n",
       "  <thead>\n",
       "    <tr style=\"text-align: right;\">\n",
       "      <th></th>\n",
       "      <th>tarih</th>\n",
       "      <th>ilce</th>\n",
       "      <th>bildirimsiz_sum</th>\n",
       "      <th>bildirimli_sum</th>\n",
       "    </tr>\n",
       "  </thead>\n",
       "  <tbody>\n",
       "    <tr>\n",
       "      <th>0</th>\n",
       "      <td>2021-01-01</td>\n",
       "      <td>manisa-akhisar</td>\n",
       "      <td>9</td>\n",
       "      <td>0</td>\n",
       "    </tr>\n",
       "    <tr>\n",
       "      <th>1</th>\n",
       "      <td>2021-01-02</td>\n",
       "      <td>manisa-akhisar</td>\n",
       "      <td>10</td>\n",
       "      <td>0</td>\n",
       "    </tr>\n",
       "    <tr>\n",
       "      <th>2</th>\n",
       "      <td>2021-01-03</td>\n",
       "      <td>manisa-akhisar</td>\n",
       "      <td>5</td>\n",
       "      <td>2</td>\n",
       "    </tr>\n",
       "    <tr>\n",
       "      <th>3</th>\n",
       "      <td>2021-01-04</td>\n",
       "      <td>manisa-akhisar</td>\n",
       "      <td>6</td>\n",
       "      <td>0</td>\n",
       "    </tr>\n",
       "    <tr>\n",
       "      <th>4</th>\n",
       "      <td>2021-01-05</td>\n",
       "      <td>manisa-akhisar</td>\n",
       "      <td>15</td>\n",
       "      <td>4</td>\n",
       "    </tr>\n",
       "  </tbody>\n",
       "</table>\n",
       "</div>"
      ],
      "text/plain": [
       "        tarih            ilce  bildirimsiz_sum  bildirimli_sum\n",
       "0  2021-01-01  manisa-akhisar                9               0\n",
       "1  2021-01-02  manisa-akhisar               10               0\n",
       "2  2021-01-03  manisa-akhisar                5               2\n",
       "3  2021-01-04  manisa-akhisar                6               0\n",
       "4  2021-01-05  manisa-akhisar               15               4"
      ]
     },
     "execution_count": 3,
     "metadata": {},
     "output_type": "execute_result"
    }
   ],
   "source": [
    "train.head()"
   ]
  },
  {
   "cell_type": "code",
   "execution_count": 4,
   "metadata": {},
   "outputs": [
    {
     "data": {
      "text/plain": [
       "(46944, 4)"
      ]
     },
     "execution_count": 4,
     "metadata": {},
     "output_type": "execute_result"
    }
   ],
   "source": [
    "train.shape"
   ]
  },
  {
   "cell_type": "code",
   "execution_count": 5,
   "metadata": {},
   "outputs": [
    {
     "data": {
      "text/html": [
       "<div>\n",
       "<style scoped>\n",
       "    .dataframe tbody tr th:only-of-type {\n",
       "        vertical-align: middle;\n",
       "    }\n",
       "\n",
       "    .dataframe tbody tr th {\n",
       "        vertical-align: top;\n",
       "    }\n",
       "\n",
       "    .dataframe thead th {\n",
       "        text-align: right;\n",
       "    }\n",
       "</style>\n",
       "<table border=\"1\" class=\"dataframe\">\n",
       "  <thead>\n",
       "    <tr style=\"text-align: right;\">\n",
       "      <th></th>\n",
       "      <th>date</th>\n",
       "      <th>lat</th>\n",
       "      <th>lon</th>\n",
       "      <th>t_2m:C</th>\n",
       "      <th>effective_cloud_cover:p</th>\n",
       "      <th>global_rad:W</th>\n",
       "      <th>relative_humidity_2m:p</th>\n",
       "      <th>wind_dir_10m:d</th>\n",
       "      <th>wind_speed_10m:ms</th>\n",
       "      <th>prob_precip_1h:p</th>\n",
       "      <th>t_apparent:C</th>\n",
       "      <th>ilce</th>\n",
       "    </tr>\n",
       "  </thead>\n",
       "  <tbody>\n",
       "    <tr>\n",
       "      <th>0</th>\n",
       "      <td>2021-01-01 00:00:00</td>\n",
       "      <td>38.7996</td>\n",
       "      <td>26.9707</td>\n",
       "      <td>13.8</td>\n",
       "      <td>40.2</td>\n",
       "      <td>0.0</td>\n",
       "      <td>80.0</td>\n",
       "      <td>168.3</td>\n",
       "      <td>6.0</td>\n",
       "      <td>1.0</td>\n",
       "      <td>13.4</td>\n",
       "      <td>izmir-aliaga</td>\n",
       "    </tr>\n",
       "    <tr>\n",
       "      <th>1</th>\n",
       "      <td>2021-01-01 01:00:00</td>\n",
       "      <td>38.7996</td>\n",
       "      <td>26.9707</td>\n",
       "      <td>13.5</td>\n",
       "      <td>56.8</td>\n",
       "      <td>0.0</td>\n",
       "      <td>83.0</td>\n",
       "      <td>173.3</td>\n",
       "      <td>5.9</td>\n",
       "      <td>1.0</td>\n",
       "      <td>13.1</td>\n",
       "      <td>izmir-aliaga</td>\n",
       "    </tr>\n",
       "    <tr>\n",
       "      <th>2</th>\n",
       "      <td>2021-01-01 02:00:00</td>\n",
       "      <td>38.7996</td>\n",
       "      <td>26.9707</td>\n",
       "      <td>13.3</td>\n",
       "      <td>71.6</td>\n",
       "      <td>0.0</td>\n",
       "      <td>83.9</td>\n",
       "      <td>176.7</td>\n",
       "      <td>5.2</td>\n",
       "      <td>1.0</td>\n",
       "      <td>13.1</td>\n",
       "      <td>izmir-aliaga</td>\n",
       "    </tr>\n",
       "    <tr>\n",
       "      <th>3</th>\n",
       "      <td>2021-01-01 03:00:00</td>\n",
       "      <td>38.7996</td>\n",
       "      <td>26.9707</td>\n",
       "      <td>12.9</td>\n",
       "      <td>69.8</td>\n",
       "      <td>0.0</td>\n",
       "      <td>88.3</td>\n",
       "      <td>183.1</td>\n",
       "      <td>5.6</td>\n",
       "      <td>1.0</td>\n",
       "      <td>12.8</td>\n",
       "      <td>izmir-aliaga</td>\n",
       "    </tr>\n",
       "    <tr>\n",
       "      <th>4</th>\n",
       "      <td>2021-01-01 04:00:00</td>\n",
       "      <td>38.7996</td>\n",
       "      <td>26.9707</td>\n",
       "      <td>12.6</td>\n",
       "      <td>56.3</td>\n",
       "      <td>0.0</td>\n",
       "      <td>90.0</td>\n",
       "      <td>166.9</td>\n",
       "      <td>6.4</td>\n",
       "      <td>1.0</td>\n",
       "      <td>12.4</td>\n",
       "      <td>izmir-aliaga</td>\n",
       "    </tr>\n",
       "  </tbody>\n",
       "</table>\n",
       "</div>"
      ],
      "text/plain": [
       "                  date      lat      lon  t_2m:C  effective_cloud_cover:p  \\\n",
       "0  2021-01-01 00:00:00  38.7996  26.9707    13.8                     40.2   \n",
       "1  2021-01-01 01:00:00  38.7996  26.9707    13.5                     56.8   \n",
       "2  2021-01-01 02:00:00  38.7996  26.9707    13.3                     71.6   \n",
       "3  2021-01-01 03:00:00  38.7996  26.9707    12.9                     69.8   \n",
       "4  2021-01-01 04:00:00  38.7996  26.9707    12.6                     56.3   \n",
       "\n",
       "   global_rad:W  relative_humidity_2m:p  wind_dir_10m:d  wind_speed_10m:ms  \\\n",
       "0           0.0                    80.0           168.3                6.0   \n",
       "1           0.0                    83.0           173.3                5.9   \n",
       "2           0.0                    83.9           176.7                5.2   \n",
       "3           0.0                    88.3           183.1                5.6   \n",
       "4           0.0                    90.0           166.9                6.4   \n",
       "\n",
       "   prob_precip_1h:p  t_apparent:C          ilce  \n",
       "0               1.0          13.4  izmir-aliaga  \n",
       "1               1.0          13.1  izmir-aliaga  \n",
       "2               1.0          13.1  izmir-aliaga  \n",
       "3               1.0          12.8  izmir-aliaga  \n",
       "4               1.0          12.4  izmir-aliaga  "
      ]
     },
     "execution_count": 5,
     "metadata": {},
     "output_type": "execute_result"
    }
   ],
   "source": [
    "weather.head()"
   ]
  },
  {
   "cell_type": "code",
   "execution_count": 6,
   "metadata": {},
   "outputs": [],
   "source": [
    "weather[\"date\"] = pd.to_datetime(weather[\"date\"])"
   ]
  },
  {
   "cell_type": "code",
   "execution_count": 7,
   "metadata": {},
   "outputs": [],
   "source": [
    "time = weather[\"date\"].dt.time"
   ]
  },
  {
   "cell_type": "code",
   "execution_count": 8,
   "metadata": {},
   "outputs": [],
   "source": [
    "weather[\"date\"] = weather[\"date\"].dt.date"
   ]
  },
  {
   "cell_type": "code",
   "execution_count": 9,
   "metadata": {},
   "outputs": [],
   "source": [
    "def create_date_interval(df,col):\n",
    "    max_date = np.datetime64(df[col].unique().max())\n",
    "    min_date = np.datetime64(df[col].unique().min())\n",
    "    date_interval = np.arange(min_date,max_date+1,step=1)\n",
    "    return date_interval"
   ]
  },
  {
   "cell_type": "code",
   "execution_count": 10,
   "metadata": {},
   "outputs": [],
   "source": [
    "def create_extend_dataset(df,dates):\n",
    "    df = df.copy()\n",
    "    ilceler = train[\"ilce\"].unique()\n",
    "    ilceler.sort()\n",
    "    extended_train = pd.concat(\n",
    "    [pd.DataFrame({'tarih': dates, 'ilce': ilce}) for ilce in ilceler],\n",
    "    ignore_index=True,\n",
    ")\n",
    "    df[\"tarih\"] = pd.to_datetime(df[\"tarih\"])\n",
    "    df_grouped = df.groupby(['tarih', 'ilce']).sum().reset_index()\n",
    "    extended_train = pd.merge(extended_train, df_grouped, on=['tarih', 'ilce'], how='left')\n",
    "    extended_train.fillna(0,inplace=True)\n",
    "    return extended_train"
   ]
  },
  {
   "cell_type": "code",
   "execution_count": 11,
   "metadata": {},
   "outputs": [],
   "source": [
    "def add_weather_features(df,w_df,dates):\n",
    "    filtered_weather = weather[(weather.date >= dates.min()) & (weather.date <= dates.max())]\n",
    "    mean_weather = filtered_weather.groupby([\"ilce\",\"date\"]).mean()\n",
    "    median_weather = filtered_weather.groupby([\"ilce\",\"date\"]).median()\n",
    "    mean_weather.reset_index(inplace=True)\n",
    "    median_weather.reset_index(inplace=True)\n",
    "    mean_weather.drop([\"ilce\",\"date\"],axis=1,inplace=True)\n",
    "    median_weather.drop([\"ilce\",\"date\"],axis=1,inplace=True)\n",
    "    mean_data = df.copy()\n",
    "    median_data = df.copy()\n",
    "    for col in mean_weather.columns:\n",
    "        mean_data[col] = mean_weather[col]\n",
    "        median_data[col] = median_weather[col]\n",
    "    return mean_data,median_data"
   ]
  },
  {
   "cell_type": "code",
   "execution_count": 12,
   "metadata": {},
   "outputs": [],
   "source": [
    "train_date_interval = create_date_interval(train,\"tarih\")\n",
    "train_df = create_extend_dataset(train,train_date_interval)"
   ]
  },
  {
   "cell_type": "code",
   "execution_count": 13,
   "metadata": {},
   "outputs": [],
   "source": [
    "weather_interval = create_date_interval(weather,\"date\")"
   ]
  },
  {
   "cell_type": "code",
   "execution_count": 14,
   "metadata": {},
   "outputs": [],
   "source": [
    "mean_data_train,median_data_train = add_weather_features(train_df,weather,weather_interval)"
   ]
  },
  {
   "cell_type": "code",
   "execution_count": 15,
   "metadata": {},
   "outputs": [],
   "source": [
    "test_interval = create_date_interval(test,\"tarih\")\n",
    "test_df = create_extend_dataset(test,test_interval)"
   ]
  },
  {
   "cell_type": "code",
   "execution_count": 16,
   "metadata": {},
   "outputs": [],
   "source": [
    "mean_data_test,median_data_test = add_weather_features(test_df,weather,test_interval)"
   ]
  },
  {
   "cell_type": "code",
   "execution_count": 20,
   "metadata": {},
   "outputs": [],
   "source": [
    "mean_data_train.to_csv(\"mean_data_train.csv\")\n",
    "median_data_train.to_csv(\"median_data_train.csv\")\n",
    "mean_data_test.to_csv(\"mean_data_test.csv\")\n",
    "median_data_test.to_csv(\"median_data_test.csv\")"
   ]
  },
  {
   "cell_type": "code",
   "execution_count": null,
   "metadata": {},
   "outputs": [],
   "source": [
    "def sort_rows_by_submisson(test):\n",
    "    pass"
   ]
  }
 ],
 "metadata": {
  "kernelspec": {
   "display_name": "MlEnv",
   "language": "python",
   "name": "python3"
  },
  "language_info": {
   "codemirror_mode": {
    "name": "ipython",
    "version": 3
   },
   "file_extension": ".py",
   "mimetype": "text/x-python",
   "name": "python",
   "nbconvert_exporter": "python",
   "pygments_lexer": "ipython3",
   "version": "3.11.7"
  }
 },
 "nbformat": 4,
 "nbformat_minor": 2
}
